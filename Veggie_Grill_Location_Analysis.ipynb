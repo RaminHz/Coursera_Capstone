{
 "cells": [
  {
   "cell_type": "markdown",
   "metadata": {},
   "source": [
    "# Location Analysis for <span style=\"color:#75b239\">Veggie Grill</span> in Toronto, CA\n",
    "<br>\n",
    "<img src=\"https://cdn.pixabay.com/photo/2020/04/21/02/32/buildings-5070537_960_720.jpg\" width=\"600\" align=\"left\" alt=\"Toronto Skyline\">"
   ]
  },
  {
   "cell_type": "markdown",
   "metadata": {},
   "source": [
    "<a href=\"https://pixabay.com/photos/buildings-city-cityscape-skyscraper-5070537/\">By lucasgeorgewendt from Pixabay</a>"
   ]
  },
  {
   "cell_type": "markdown",
   "metadata": {},
   "source": [
    "**Disclaimer:** Please be aware that this is a mock project and decisions for **<span style=\"color:#75b239\">Veggie Grill</span>** to expand to Toronto and the customer segmentation are not based on facts, but are made up for the purpose of this project."
   ]
  },
  {
   "cell_type": "markdown",
   "metadata": {},
   "source": [
    "## Table of Contents"
   ]
  },
  {
   "cell_type": "markdown",
   "metadata": {},
   "source": [
    "\n",
    "#### 1. Introduction  \n",
    "#### 2. Methodology  \n",
    "#### 3. Analysis  \n",
    "#### 4. Results  \n"
   ]
  },
  {
   "cell_type": "markdown",
   "metadata": {},
   "source": [
    "## 1. Introduction"
   ]
  },
  {
   "cell_type": "markdown",
   "metadata": {},
   "source": [
    "This section gives an introduction to the restaurant chain Veggie Grill and the business problem to be solved by this project."
   ]
  },
  {
   "cell_type": "markdown",
   "metadata": {},
   "source": [
    "### Veggie Grill"
   ]
  },
  {
   "cell_type": "markdown",
   "metadata": {},
   "source": [
    "**<span style=\"color:#75b239\">Veggie Grill</span>** is a **fast-casual vegan restaurant chain** that operates in California, Oregon, Washington, Illinois, and Massachusetts. The **first** restaurant **opened in 2006** in Irvine, California, which has since grown to be the **largest vegetarian and vegan restaurant company in the U.S**.\n",
    "The chain focuses on offering **only plant-based food**, with no meat, dairy, eggs, cholesterol, animal fat or trans fat."
   ]
  },
  {
   "cell_type": "markdown",
   "metadata": {},
   "source": [
    "### Business Problem"
   ]
  },
  {
   "cell_type": "markdown",
   "metadata": {},
   "source": [
    "The owners of **<span style=\"color:#75b239\">Veggie Grill</span>** have decided to expand into the Canadian market. Management of **<span style=\"color:#75b239\">Veggie Grill</span>** has decided to choose Toronto as the city where the first restaurant should be opened in Canada."
   ]
  },
  {
   "cell_type": "markdown",
   "metadata": {},
   "source": [
    "To gain foothold in Toronto fast a suitable location in Downtown Toronto for the first restaurant should be chosen. The management of **<span style=\"color:#75b239\">Veggie Grill</span>** now approached **Capstone Data Science** to analyze the ideal location, based on two criteria:\n",
    "<br>\n",
    "1. **Competition:** Overall competition of vegan/vegetarian restaurants in the area.\n",
    "2. **Attractiveness:** Attractiveness of the neighborhood based on potential customers. Based on a customer segmentation done by **<span style=\"color:#75b239\">Veggie Grill</span>** some months ago they identified that their customers are between the age of 10 to 55. Furthermore their main revenue stream comes from employees who go out for lunch during lunch break. "
   ]
  },
  {
   "cell_type": "markdown",
   "metadata": {},
   "source": [
    "## 2. Methodology"
   ]
  },
  {
   "cell_type": "markdown",
   "metadata": {},
   "source": [
    "This section gives an overview about the methodology how the project will be approached and the data and according data sources that will be needed to solve the business problem."
   ]
  },
  {
   "cell_type": "markdown",
   "metadata": {},
   "source": [
    "### Overview"
   ]
  },
  {
   "cell_type": "markdown",
   "metadata": {},
   "source": [
    " To determine a suitable location mainly 4 data sources will be used:  \n",
    " 1. **Foursquare Venue Data:** For competition data Foursquare will be used to build competition clusters based on density of vegan/vegetarian restaurants located in a neighborhood. The data will be retrieved via the Foursquare API.\n",
    " 2. **Toronto Economic Data:** Toronto economics data will be used to determine how many business are located in a neighborhood, since **<span style=\"color:#75b239\">Veggie Grill's</span>** main revenue stream comes from employees who go out for lunch. The data will be retrieved via the website of the city of Toronto: https://open.toronto.ca/dataset/wellbeing-toronto-economics/.\n",
    " 3. **Toronto Demographics Data:** Toronto population data will be used to determine how many of the customers in the identified age group between 10 to 55 years are located in a neighborhood. The data will be retrieved via the website of the city of Toronto:  https://open.toronto.ca/dataset/wellbeing-toronto-demographics/\n",
    " 4. **Toronto Location Data:** To plot the high potential neighborhoods on a map, location data for longitude and latitude values will be downloaded from the Toronto website as well: https://open.toronto.ca/dataset/neighbourhoods/. Generating the data via geocoder is not possible without bigger efforts, since the neighborhood names cannot be easily found via geocoder.\n",
    " \n"
   ]
  },
  {
   "cell_type": "markdown",
   "metadata": {},
   "source": [
    "### Data Analysis"
   ]
  },
  {
   "cell_type": "markdown",
   "metadata": {},
   "source": [
    "We will conduct basically two analyses based on clustering, which will result in a competition clustering and a attractiveness clustering. Both clustering exercises will then be combined to derive a conclusion which neighborhoods have the highest potential to open a first restaurant."
   ]
  },
  {
   "cell_type": "markdown",
   "metadata": {},
   "source": [
    "All relevant data of the above mentioned data sources will be combined into one data frame and then be plotted on a Toronto map with meaningful color coding so that the relevant neighborhoods can be instantly identified."
   ]
  },
  {
   "cell_type": "markdown",
   "metadata": {},
   "source": [
    "## 3. Analysis"
   ]
  },
  {
   "cell_type": "markdown",
   "metadata": {},
   "source": [
    "This section contains the data preparation and data analysis to derive a meaningful conclusion."
   ]
  },
  {
   "cell_type": "code",
   "execution_count": 2,
   "metadata": {},
   "outputs": [
    {
     "name": "stdout",
     "output_type": "stream",
     "text": [
      "Libraries imported.\n"
     ]
    }
   ],
   "source": [
    "import pandas as pd\n",
    "from geopy.geocoders import Nominatim\n",
    "import folium\n",
    "import requests\n",
    "import numpy as np\n",
    "from sklearn.cluster import KMeans\n",
    "import matplotlib.cm as cm\n",
    "import matplotlib.colors as colors\n",
    "print('Libraries imported.')"
   ]
  },
  {
   "cell_type": "markdown",
   "metadata": {},
   "source": [
    "### Toronto Economics Data"
   ]
  },
  {
   "cell_type": "code",
   "execution_count": 4,
   "metadata": {},
   "outputs": [
    {
     "data": {
      "text/html": [
       "<div>\n",
       "<style scoped>\n",
       "    .dataframe tbody tr th:only-of-type {\n",
       "        vertical-align: middle;\n",
       "    }\n",
       "\n",
       "    .dataframe tbody tr th {\n",
       "        vertical-align: top;\n",
       "    }\n",
       "\n",
       "    .dataframe thead th {\n",
       "        text-align: right;\n",
       "    }\n",
       "</style>\n",
       "<table border=\"1\" class=\"dataframe\">\n",
       "  <thead>\n",
       "    <tr style=\"text-align: right;\">\n",
       "      <th></th>\n",
       "      <th>Neighbourhood</th>\n",
       "      <th>Neighbourhood Id</th>\n",
       "      <th>Businesses</th>\n",
       "      <th>Child Care Spaces</th>\n",
       "      <th>Debt Risk Score</th>\n",
       "      <th>Home Prices</th>\n",
       "      <th>Local Employment</th>\n",
       "      <th>Social Assistance Recipients</th>\n",
       "    </tr>\n",
       "  </thead>\n",
       "  <tbody>\n",
       "    <tr>\n",
       "      <td>0</td>\n",
       "      <td>West Humber-Clairville</td>\n",
       "      <td>1</td>\n",
       "      <td>2463</td>\n",
       "      <td>195</td>\n",
       "      <td>719</td>\n",
       "      <td>317508</td>\n",
       "      <td>58271</td>\n",
       "      <td>2912</td>\n",
       "    </tr>\n",
       "    <tr>\n",
       "      <td>1</td>\n",
       "      <td>Mount Olive-Silverstone-Jamestown</td>\n",
       "      <td>2</td>\n",
       "      <td>271</td>\n",
       "      <td>60</td>\n",
       "      <td>687</td>\n",
       "      <td>251119</td>\n",
       "      <td>3244</td>\n",
       "      <td>6561</td>\n",
       "    </tr>\n",
       "    <tr>\n",
       "      <td>2</td>\n",
       "      <td>Thistletown-Beaumond Heights</td>\n",
       "      <td>3</td>\n",
       "      <td>217</td>\n",
       "      <td>25</td>\n",
       "      <td>718</td>\n",
       "      <td>414216</td>\n",
       "      <td>1311</td>\n",
       "      <td>1276</td>\n",
       "    </tr>\n",
       "    <tr>\n",
       "      <td>3</td>\n",
       "      <td>Rexdale-Kipling</td>\n",
       "      <td>4</td>\n",
       "      <td>144</td>\n",
       "      <td>75</td>\n",
       "      <td>721</td>\n",
       "      <td>392271</td>\n",
       "      <td>1178</td>\n",
       "      <td>1323</td>\n",
       "    </tr>\n",
       "    <tr>\n",
       "      <td>4</td>\n",
       "      <td>Elms-Old Rexdale</td>\n",
       "      <td>5</td>\n",
       "      <td>67</td>\n",
       "      <td>60</td>\n",
       "      <td>692</td>\n",
       "      <td>233832</td>\n",
       "      <td>903</td>\n",
       "      <td>1683</td>\n",
       "    </tr>\n",
       "  </tbody>\n",
       "</table>\n",
       "</div>"
      ],
      "text/plain": [
       "                       Neighbourhood  Neighbourhood Id  Businesses  \\\n",
       "0             West Humber-Clairville                 1        2463   \n",
       "1  Mount Olive-Silverstone-Jamestown                 2         271   \n",
       "2       Thistletown-Beaumond Heights                 3         217   \n",
       "3                    Rexdale-Kipling                 4         144   \n",
       "4                   Elms-Old Rexdale                 5          67   \n",
       "\n",
       "   Child Care Spaces  Debt Risk Score  Home Prices  Local Employment  \\\n",
       "0                195              719       317508             58271   \n",
       "1                 60              687       251119              3244   \n",
       "2                 25              718       414216              1311   \n",
       "3                 75              721       392271              1178   \n",
       "4                 60              692       233832               903   \n",
       "\n",
       "   Social Assistance Recipients  \n",
       "0                          2912  \n",
       "1                          6561  \n",
       "2                          1276  \n",
       "3                          1323  \n",
       "4                          1683  "
      ]
     },
     "execution_count": 4,
     "metadata": {},
     "output_type": "execute_result"
    }
   ],
   "source": [
    "df_eco = pd.read_csv(r\"C:\\Users\\rhass\\Desktop\\Github\\Coursera_Capstone\\wellbeing-toronto-economics.csv\")\n",
    "df_eco.head()"
   ]
  },
  {
   "cell_type": "markdown",
   "metadata": {},
   "source": [
    "### Toronto Demographics Data"
   ]
  },
  {
   "cell_type": "code",
   "execution_count": 5,
   "metadata": {},
   "outputs": [
    {
     "data": {
      "text/html": [
       "<div>\n",
       "<style scoped>\n",
       "    .dataframe tbody tr th:only-of-type {\n",
       "        vertical-align: middle;\n",
       "    }\n",
       "\n",
       "    .dataframe tbody tr th {\n",
       "        vertical-align: top;\n",
       "    }\n",
       "\n",
       "    .dataframe thead th {\n",
       "        text-align: right;\n",
       "    }\n",
       "</style>\n",
       "<table border=\"1\" class=\"dataframe\">\n",
       "  <thead>\n",
       "    <tr style=\"text-align: right;\">\n",
       "      <th></th>\n",
       "      <th>NeighbourhoodID</th>\n",
       "      <th>Neighbourhood</th>\n",
       "      <th>Total Area</th>\n",
       "      <th>0 to 04 years</th>\n",
       "      <th>0 to 14 years</th>\n",
       "      <th>05 to 09 years</th>\n",
       "      <th>10 to 14 years</th>\n",
       "      <th>100 years and over</th>\n",
       "      <th>15 to 19 years</th>\n",
       "      <th>20 to 24 years</th>\n",
       "      <th>...</th>\n",
       "      <th>65 to 69 years</th>\n",
       "      <th>65 years and over</th>\n",
       "      <th>70 to 74 years</th>\n",
       "      <th>75 to 79 years</th>\n",
       "      <th>80 to 84 years</th>\n",
       "      <th>85 to 89 years</th>\n",
       "      <th>85 years and over</th>\n",
       "      <th>90 to 94 years</th>\n",
       "      <th>95 to 99 years</th>\n",
       "      <th>Total Population - All Age Groups - 100% data</th>\n",
       "    </tr>\n",
       "  </thead>\n",
       "  <tbody>\n",
       "    <tr>\n",
       "      <td>0</td>\n",
       "      <td>1.0</td>\n",
       "      <td>West Humber-Clairville</td>\n",
       "      <td>30.09</td>\n",
       "      <td>1540.0</td>\n",
       "      <td>5060.0</td>\n",
       "      <td>1720.0</td>\n",
       "      <td>1790.0</td>\n",
       "      <td>5.0</td>\n",
       "      <td>2325.0</td>\n",
       "      <td>3120.0</td>\n",
       "      <td>...</td>\n",
       "      <td>1595.0</td>\n",
       "      <td>4980.0</td>\n",
       "      <td>1185.0</td>\n",
       "      <td>885.0</td>\n",
       "      <td>700.0</td>\n",
       "      <td>400.0</td>\n",
       "      <td>615.0</td>\n",
       "      <td>160.0</td>\n",
       "      <td>50.0</td>\n",
       "      <td>33320.0</td>\n",
       "    </tr>\n",
       "    <tr>\n",
       "      <td>1</td>\n",
       "      <td>2.0</td>\n",
       "      <td>Mount Olive-Silverstone-Jamestown</td>\n",
       "      <td>4.60</td>\n",
       "      <td>2190.0</td>\n",
       "      <td>7090.0</td>\n",
       "      <td>2500.0</td>\n",
       "      <td>2415.0</td>\n",
       "      <td>0.0</td>\n",
       "      <td>2585.0</td>\n",
       "      <td>2655.0</td>\n",
       "      <td>...</td>\n",
       "      <td>1285.0</td>\n",
       "      <td>3560.0</td>\n",
       "      <td>885.0</td>\n",
       "      <td>630.0</td>\n",
       "      <td>465.0</td>\n",
       "      <td>225.0</td>\n",
       "      <td>300.0</td>\n",
       "      <td>70.0</td>\n",
       "      <td>10.0</td>\n",
       "      <td>32950.0</td>\n",
       "    </tr>\n",
       "    <tr>\n",
       "      <td>2</td>\n",
       "      <td>3.0</td>\n",
       "      <td>Thistletown-Beaumond Heights</td>\n",
       "      <td>3.40</td>\n",
       "      <td>540.0</td>\n",
       "      <td>1730.0</td>\n",
       "      <td>600.0</td>\n",
       "      <td>595.0</td>\n",
       "      <td>5.0</td>\n",
       "      <td>650.0</td>\n",
       "      <td>760.0</td>\n",
       "      <td>...</td>\n",
       "      <td>490.0</td>\n",
       "      <td>1880.0</td>\n",
       "      <td>375.0</td>\n",
       "      <td>335.0</td>\n",
       "      <td>320.0</td>\n",
       "      <td>225.0</td>\n",
       "      <td>350.0</td>\n",
       "      <td>100.0</td>\n",
       "      <td>20.0</td>\n",
       "      <td>10360.0</td>\n",
       "    </tr>\n",
       "    <tr>\n",
       "      <td>3</td>\n",
       "      <td>4.0</td>\n",
       "      <td>Rexdale-Kipling</td>\n",
       "      <td>2.50</td>\n",
       "      <td>560.0</td>\n",
       "      <td>1640.0</td>\n",
       "      <td>515.0</td>\n",
       "      <td>565.0</td>\n",
       "      <td>0.0</td>\n",
       "      <td>635.0</td>\n",
       "      <td>720.0</td>\n",
       "      <td>...</td>\n",
       "      <td>520.0</td>\n",
       "      <td>1730.0</td>\n",
       "      <td>350.0</td>\n",
       "      <td>295.0</td>\n",
       "      <td>270.0</td>\n",
       "      <td>205.0</td>\n",
       "      <td>300.0</td>\n",
       "      <td>85.0</td>\n",
       "      <td>15.0</td>\n",
       "      <td>10530.0</td>\n",
       "    </tr>\n",
       "    <tr>\n",
       "      <td>4</td>\n",
       "      <td>5.0</td>\n",
       "      <td>Elms-Old Rexdale</td>\n",
       "      <td>2.90</td>\n",
       "      <td>540.0</td>\n",
       "      <td>1805.0</td>\n",
       "      <td>605.0</td>\n",
       "      <td>660.0</td>\n",
       "      <td>0.0</td>\n",
       "      <td>690.0</td>\n",
       "      <td>750.0</td>\n",
       "      <td>...</td>\n",
       "      <td>415.0</td>\n",
       "      <td>1275.0</td>\n",
       "      <td>305.0</td>\n",
       "      <td>235.0</td>\n",
       "      <td>180.0</td>\n",
       "      <td>105.0</td>\n",
       "      <td>145.0</td>\n",
       "      <td>40.0</td>\n",
       "      <td>5.0</td>\n",
       "      <td>9460.0</td>\n",
       "    </tr>\n",
       "  </tbody>\n",
       "</table>\n",
       "<p>5 rows × 28 columns</p>\n",
       "</div>"
      ],
      "text/plain": [
       "   NeighbourhoodID                      Neighbourhood  Total Area  \\\n",
       "0              1.0             West Humber-Clairville       30.09   \n",
       "1              2.0  Mount Olive-Silverstone-Jamestown        4.60   \n",
       "2              3.0       Thistletown-Beaumond Heights        3.40   \n",
       "3              4.0                    Rexdale-Kipling        2.50   \n",
       "4              5.0                   Elms-Old Rexdale        2.90   \n",
       "\n",
       "   0 to 04 years  0 to 14 years  05 to 09 years  10 to 14 years  \\\n",
       "0         1540.0         5060.0          1720.0          1790.0   \n",
       "1         2190.0         7090.0          2500.0          2415.0   \n",
       "2          540.0         1730.0           600.0           595.0   \n",
       "3          560.0         1640.0           515.0           565.0   \n",
       "4          540.0         1805.0           605.0           660.0   \n",
       "\n",
       "   100 years and over  15 to 19 years  20 to 24 years  ...  65 to 69 years  \\\n",
       "0                 5.0          2325.0          3120.0  ...          1595.0   \n",
       "1                 0.0          2585.0          2655.0  ...          1285.0   \n",
       "2                 5.0           650.0           760.0  ...           490.0   \n",
       "3                 0.0           635.0           720.0  ...           520.0   \n",
       "4                 0.0           690.0           750.0  ...           415.0   \n",
       "\n",
       "   65 years and over  70 to 74 years  75 to 79 years  80 to 84 years  \\\n",
       "0             4980.0          1185.0           885.0           700.0   \n",
       "1             3560.0           885.0           630.0           465.0   \n",
       "2             1880.0           375.0           335.0           320.0   \n",
       "3             1730.0           350.0           295.0           270.0   \n",
       "4             1275.0           305.0           235.0           180.0   \n",
       "\n",
       "   85 to 89 years  85 years and over  90 to 94 years  95 to 99 years  \\\n",
       "0           400.0              615.0           160.0            50.0   \n",
       "1           225.0              300.0            70.0            10.0   \n",
       "2           225.0              350.0           100.0            20.0   \n",
       "3           205.0              300.0            85.0            15.0   \n",
       "4           105.0              145.0            40.0             5.0   \n",
       "\n",
       "   Total Population - All Age Groups - 100% data  \n",
       "0                                        33320.0  \n",
       "1                                        32950.0  \n",
       "2                                        10360.0  \n",
       "3                                        10530.0  \n",
       "4                                         9460.0  \n",
       "\n",
       "[5 rows x 28 columns]"
      ]
     },
     "execution_count": 5,
     "metadata": {},
     "output_type": "execute_result"
    }
   ],
   "source": [
    "df_demo = pd.read_csv(r\"C:\\Users\\rhass\\Desktop\\Github\\Coursera_Capstone\\wellbeing-toronto-population-total-2011-2016-and-age-groups-2016-1.csv\")\n",
    "df_demo.head()"
   ]
  },
  {
   "cell_type": "markdown",
   "metadata": {},
   "source": [
    "### Location Data"
   ]
  },
  {
   "cell_type": "code",
   "execution_count": 7,
   "metadata": {},
   "outputs": [
    {
     "data": {
      "text/html": [
       "<div>\n",
       "<style scoped>\n",
       "    .dataframe tbody tr th:only-of-type {\n",
       "        vertical-align: middle;\n",
       "    }\n",
       "\n",
       "    .dataframe tbody tr th {\n",
       "        vertical-align: top;\n",
       "    }\n",
       "\n",
       "    .dataframe thead th {\n",
       "        text-align: right;\n",
       "    }\n",
       "</style>\n",
       "<table border=\"1\" class=\"dataframe\">\n",
       "  <thead>\n",
       "    <tr style=\"text-align: right;\">\n",
       "      <th></th>\n",
       "      <th>_id</th>\n",
       "      <th>AREA_ID</th>\n",
       "      <th>AREA_ATTR_ID</th>\n",
       "      <th>PARENT_AREA_ID</th>\n",
       "      <th>AREA_SHORT_CODE</th>\n",
       "      <th>AREA_LONG_CODE</th>\n",
       "      <th>AREA_NAME</th>\n",
       "      <th>AREA_DESC</th>\n",
       "      <th>X</th>\n",
       "      <th>Y</th>\n",
       "      <th>LONGITUDE</th>\n",
       "      <th>LATITUDE</th>\n",
       "      <th>OBJECTID</th>\n",
       "      <th>Shape__Area</th>\n",
       "      <th>Shape__Length</th>\n",
       "      <th>geometry</th>\n",
       "    </tr>\n",
       "  </thead>\n",
       "  <tbody>\n",
       "    <tr>\n",
       "      <td>0</td>\n",
       "      <td>5461</td>\n",
       "      <td>25886861</td>\n",
       "      <td>25926662</td>\n",
       "      <td>49885</td>\n",
       "      <td>94</td>\n",
       "      <td>94</td>\n",
       "      <td>Wychwood (94)</td>\n",
       "      <td>Wychwood (94)</td>\n",
       "      <td>NaN</td>\n",
       "      <td>NaN</td>\n",
       "      <td>-79.425515</td>\n",
       "      <td>43.676919</td>\n",
       "      <td>16491505</td>\n",
       "      <td>3.217960e+06</td>\n",
       "      <td>7515.779658</td>\n",
       "      <td>{u'type': u'Polygon', u'coordinates': (((-79.4...</td>\n",
       "    </tr>\n",
       "    <tr>\n",
       "      <td>1</td>\n",
       "      <td>5462</td>\n",
       "      <td>25886820</td>\n",
       "      <td>25926663</td>\n",
       "      <td>49885</td>\n",
       "      <td>100</td>\n",
       "      <td>100</td>\n",
       "      <td>Yonge-Eglinton (100)</td>\n",
       "      <td>Yonge-Eglinton (100)</td>\n",
       "      <td>NaN</td>\n",
       "      <td>NaN</td>\n",
       "      <td>-79.403590</td>\n",
       "      <td>43.704689</td>\n",
       "      <td>16491521</td>\n",
       "      <td>3.160334e+06</td>\n",
       "      <td>7872.021074</td>\n",
       "      <td>{u'type': u'Polygon', u'coordinates': (((-79.4...</td>\n",
       "    </tr>\n",
       "    <tr>\n",
       "      <td>2</td>\n",
       "      <td>5463</td>\n",
       "      <td>25886834</td>\n",
       "      <td>25926664</td>\n",
       "      <td>49885</td>\n",
       "      <td>97</td>\n",
       "      <td>97</td>\n",
       "      <td>Yonge-St.Clair (97)</td>\n",
       "      <td>Yonge-St.Clair (97)</td>\n",
       "      <td>NaN</td>\n",
       "      <td>NaN</td>\n",
       "      <td>-79.397871</td>\n",
       "      <td>43.687859</td>\n",
       "      <td>16491537</td>\n",
       "      <td>2.222464e+06</td>\n",
       "      <td>8130.411276</td>\n",
       "      <td>{u'type': u'Polygon', u'coordinates': (((-79.3...</td>\n",
       "    </tr>\n",
       "    <tr>\n",
       "      <td>3</td>\n",
       "      <td>5464</td>\n",
       "      <td>25886593</td>\n",
       "      <td>25926665</td>\n",
       "      <td>49885</td>\n",
       "      <td>27</td>\n",
       "      <td>27</td>\n",
       "      <td>York University Heights (27)</td>\n",
       "      <td>York University Heights (27)</td>\n",
       "      <td>NaN</td>\n",
       "      <td>NaN</td>\n",
       "      <td>-79.488883</td>\n",
       "      <td>43.765736</td>\n",
       "      <td>16491553</td>\n",
       "      <td>2.541821e+07</td>\n",
       "      <td>25632.335240</td>\n",
       "      <td>{u'type': u'Polygon', u'coordinates': (((-79.5...</td>\n",
       "    </tr>\n",
       "    <tr>\n",
       "      <td>4</td>\n",
       "      <td>5465</td>\n",
       "      <td>25886688</td>\n",
       "      <td>25926666</td>\n",
       "      <td>49885</td>\n",
       "      <td>31</td>\n",
       "      <td>31</td>\n",
       "      <td>Yorkdale-Glen Park (31)</td>\n",
       "      <td>Yorkdale-Glen Park (31)</td>\n",
       "      <td>NaN</td>\n",
       "      <td>NaN</td>\n",
       "      <td>-79.457108</td>\n",
       "      <td>43.714672</td>\n",
       "      <td>16491569</td>\n",
       "      <td>1.156669e+07</td>\n",
       "      <td>13953.408100</td>\n",
       "      <td>{u'type': u'Polygon', u'coordinates': (((-79.4...</td>\n",
       "    </tr>\n",
       "  </tbody>\n",
       "</table>\n",
       "</div>"
      ],
      "text/plain": [
       "    _id   AREA_ID  AREA_ATTR_ID  PARENT_AREA_ID  AREA_SHORT_CODE  \\\n",
       "0  5461  25886861      25926662           49885               94   \n",
       "1  5462  25886820      25926663           49885              100   \n",
       "2  5463  25886834      25926664           49885               97   \n",
       "3  5464  25886593      25926665           49885               27   \n",
       "4  5465  25886688      25926666           49885               31   \n",
       "\n",
       "   AREA_LONG_CODE                     AREA_NAME                     AREA_DESC  \\\n",
       "0              94                 Wychwood (94)                 Wychwood (94)   \n",
       "1             100          Yonge-Eglinton (100)          Yonge-Eglinton (100)   \n",
       "2              97           Yonge-St.Clair (97)           Yonge-St.Clair (97)   \n",
       "3              27  York University Heights (27)  York University Heights (27)   \n",
       "4              31       Yorkdale-Glen Park (31)       Yorkdale-Glen Park (31)   \n",
       "\n",
       "    X   Y  LONGITUDE   LATITUDE  OBJECTID   Shape__Area  Shape__Length  \\\n",
       "0 NaN NaN -79.425515  43.676919  16491505  3.217960e+06    7515.779658   \n",
       "1 NaN NaN -79.403590  43.704689  16491521  3.160334e+06    7872.021074   \n",
       "2 NaN NaN -79.397871  43.687859  16491537  2.222464e+06    8130.411276   \n",
       "3 NaN NaN -79.488883  43.765736  16491553  2.541821e+07   25632.335240   \n",
       "4 NaN NaN -79.457108  43.714672  16491569  1.156669e+07   13953.408100   \n",
       "\n",
       "                                            geometry  \n",
       "0  {u'type': u'Polygon', u'coordinates': (((-79.4...  \n",
       "1  {u'type': u'Polygon', u'coordinates': (((-79.4...  \n",
       "2  {u'type': u'Polygon', u'coordinates': (((-79.3...  \n",
       "3  {u'type': u'Polygon', u'coordinates': (((-79.5...  \n",
       "4  {u'type': u'Polygon', u'coordinates': (((-79.4...  "
      ]
     },
     "execution_count": 7,
     "metadata": {},
     "output_type": "execute_result"
    }
   ],
   "source": [
    "df_loc = pd.read_csv(r\"C:\\Users\\rhass\\Desktop\\Github\\Coursera_Capstone\\Neighbourhoods.csv\")\n",
    "df_loc.head()"
   ]
  },
  {
   "cell_type": "markdown",
   "metadata": {},
   "source": [
    "## 4. Results"
   ]
  },
  {
   "cell_type": "markdown",
   "metadata": {},
   "source": [
    "This section presents the results of the analysis and the suggested neighborhoods."
   ]
  }
 ],
 "metadata": {
  "kernelspec": {
   "display_name": "Python 3",
   "language": "python",
   "name": "python3"
  },
  "language_info": {
   "codemirror_mode": {
    "name": "ipython",
    "version": 3
   },
   "file_extension": ".py",
   "mimetype": "text/x-python",
   "name": "python",
   "nbconvert_exporter": "python",
   "pygments_lexer": "ipython3",
   "version": "3.7.4"
  }
 },
 "nbformat": 4,
 "nbformat_minor": 2
}
